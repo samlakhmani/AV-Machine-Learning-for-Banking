{
 "cells": [
  {
   "cell_type": "markdown",
   "metadata": {},
   "source": [
    "# Analytics Vidhiya - Janata Hack : Banking"
   ]
  },
  {
   "cell_type": "markdown",
   "metadata": {},
   "source": [
    "lets read the data and understand it"
   ]
  },
  {
   "cell_type": "code",
   "execution_count": 1,
   "metadata": {},
   "outputs": [],
   "source": [
    "import pandas as pd\n",
    "import numpy as np\n",
    "import matplotlib as mpl\n",
    "import matplotlib.pyplot as plt\n",
    "import seaborn as sns\n"
   ]
  },
  {
   "cell_type": "code",
   "execution_count": 2,
   "metadata": {},
   "outputs": [],
   "source": [
    "train = pd.read_csv('data/train.csv') \n",
    "test = pd.read_csv('data/test.csv')"
   ]
  },
  {
   "cell_type": "code",
   "execution_count": 3,
   "metadata": {},
   "outputs": [],
   "source": [
    "train_data = train.copy()\n",
    "test_data = test.copy()"
   ]
  },
  {
   "cell_type": "code",
   "execution_count": 4,
   "metadata": {},
   "outputs": [
    {
     "name": "stdout",
     "output_type": "stream",
     "text": [
      "Total Entries : 164309\n"
     ]
    },
    {
     "data": {
      "text/plain": [
       "Loan_ID                        0\n",
       "Loan_Amount_Requested          0\n",
       "Length_Employed             7371\n",
       "Home_Owner                 25349\n",
       "Annual_Income              25102\n",
       "Income_Verified                0\n",
       "Purpose_Of_Loan                0\n",
       "Debt_To_Income                 0\n",
       "Inquiries_Last_6Mo             0\n",
       "Months_Since_Deliquency    88379\n",
       "Number_Open_Accounts           0\n",
       "Total_Accounts                 0\n",
       "Gender                         0\n",
       "Interest_Rate                  0\n",
       "dtype: int64"
      ]
     },
     "execution_count": 4,
     "metadata": {},
     "output_type": "execute_result"
    }
   ],
   "source": [
    "print('Total Entries : {}'.format(train_data.shape[0]))\n",
    "train_data.isnull().sum()"
   ]
  },
  {
   "cell_type": "code",
   "execution_count": 5,
   "metadata": {},
   "outputs": [
    {
     "name": "stdout",
     "output_type": "stream",
     "text": [
      "Total Entries : 109541\n"
     ]
    },
    {
     "data": {
      "text/plain": [
       "Loan_ID                        0\n",
       "Loan_Amount_Requested          0\n",
       "Length_Employed             4936\n",
       "Home_Owner                 16711\n",
       "Annual_Income              16898\n",
       "Income_Verified                0\n",
       "Purpose_Of_Loan                0\n",
       "Debt_To_Income                 0\n",
       "Inquiries_Last_6Mo             0\n",
       "Months_Since_Deliquency    58859\n",
       "Number_Open_Accounts           0\n",
       "Total_Accounts                 0\n",
       "Gender                         0\n",
       "dtype: int64"
      ]
     },
     "execution_count": 5,
     "metadata": {},
     "output_type": "execute_result"
    }
   ],
   "source": [
    "print('Total Entries : {}'.format(test_data.shape[0]))\n",
    "test_data.isnull().sum()"
   ]
  },
  {
   "cell_type": "markdown",
   "metadata": {},
   "source": [
    "### Preliminary  Treatment"
   ]
  },
  {
   "cell_type": "code",
   "execution_count": 6,
   "metadata": {},
   "outputs": [],
   "source": [
    "train_data['Loan_Amount_Requested']=train_data['Loan_Amount_Requested'].apply(lambda x:x.replace(',','')).astype(int)\n",
    "\n",
    "#Feature Engineering\n",
    "train_data['Loan_To_Income'] = train_data['Loan_Amount_Requested']/train_data['Annual_Income']\n",
    "train_data['Loan_To_Income'] = train_data['Loan_To_Income'].fillna(99) # 0 would mean it is really good, but since annual income is missing it is bad, businessmen usually take loan to income of 10:1, so we can assume a bad loan to income request as 99:1\n",
    "\n",
    "train_data['Length_Employed'] = train_data['Length_Employed'].fillna(0)\n",
    "train_data['Home_Owner'] = train_data['Home_Owner'].fillna('Unknown')\n",
    "train_data['Annual_Income'] = train_data['Annual_Income'].fillna(0)\n",
    "train_data['Months_Since_Deliquency'] = train_data['Months_Since_Deliquency'].fillna(0)"
   ]
  },
  {
   "cell_type": "code",
   "execution_count": 7,
   "metadata": {},
   "outputs": [],
   "source": [
    "test_data['Loan_Amount_Requested']=test_data['Loan_Amount_Requested'].apply(lambda x:x.replace(',','')).astype(int)\n",
    "\n",
    "#Feature Engineering \n",
    "test_data['Loan_To_Income'] = test_data['Loan_Amount_Requested']/test_data['Annual_Income']\n",
    "test_data['Loan_To_Income'] = test_data['Loan_To_Income'].fillna(99) # 0 would mean it is really good, but since annual income is missing it is bad, businessmen usually take loan to income of 10:1, so we can assume a bad loan to income request as 99:1\n",
    "\n",
    "test_data['Length_Employed'] = test_data['Length_Employed'].fillna(0)\n",
    "test_data['Home_Owner'] = test_data['Home_Owner'].fillna('Unknown')\n",
    "test_data['Annual_Income'] = test_data['Annual_Income'].fillna(0)\n",
    "test_data['Months_Since_Deliquency'] = test_data['Months_Since_Deliquency'].fillna(0)"
   ]
  },
  {
   "cell_type": "code",
   "execution_count": 8,
   "metadata": {},
   "outputs": [],
   "source": [
    "train_data.replace({'Length_Employed': { '< 1 year': 0,\n",
    "                                         '1 year': 1,\n",
    "                                         '2 years': 2,\n",
    "                                         '3 years': 3,\n",
    "                                         '4 years': 4,\n",
    "                                         '5 years': 5,\n",
    "                                         '6 years': 6,\n",
    "                                         '7 years': 7,\n",
    "                                         '8 years': 8,\n",
    "                                         '9 years': 9,\n",
    "                                         '10+ years': 10}},inplace=True)"
   ]
  },
  {
   "cell_type": "code",
   "execution_count": 9,
   "metadata": {},
   "outputs": [],
   "source": [
    "test_data.replace({'Length_Employed': { '< 1 year': 0,\n",
    "                                         '1 year': 1,\n",
    "                                         '2 years': 2,\n",
    "                                         '3 years': 3,\n",
    "                                         '4 years': 4,\n",
    "                                         '5 years': 5,\n",
    "                                         '6 years': 6,\n",
    "                                         '7 years': 7,\n",
    "                                         '8 years': 8,\n",
    "                                         '9 years': 9,\n",
    "                                         '10+ years': 10}},inplace=True)"
   ]
  },
  {
   "cell_type": "code",
   "execution_count": 10,
   "metadata": {},
   "outputs": [
    {
     "data": {
      "text/html": [
       "<div>\n",
       "<style scoped>\n",
       "    .dataframe tbody tr th:only-of-type {\n",
       "        vertical-align: middle;\n",
       "    }\n",
       "\n",
       "    .dataframe tbody tr th {\n",
       "        vertical-align: top;\n",
       "    }\n",
       "\n",
       "    .dataframe thead th {\n",
       "        text-align: right;\n",
       "    }\n",
       "</style>\n",
       "<table border=\"1\" class=\"dataframe\">\n",
       "  <thead>\n",
       "    <tr style=\"text-align: right;\">\n",
       "      <th></th>\n",
       "      <th>Loan_ID</th>\n",
       "      <th>Loan_Amount_Requested</th>\n",
       "      <th>Length_Employed</th>\n",
       "      <th>Home_Owner</th>\n",
       "      <th>Annual_Income</th>\n",
       "      <th>Income_Verified</th>\n",
       "      <th>Purpose_Of_Loan</th>\n",
       "      <th>Debt_To_Income</th>\n",
       "      <th>Inquiries_Last_6Mo</th>\n",
       "      <th>Months_Since_Deliquency</th>\n",
       "      <th>Number_Open_Accounts</th>\n",
       "      <th>Total_Accounts</th>\n",
       "      <th>Gender</th>\n",
       "      <th>Interest_Rate</th>\n",
       "      <th>Loan_To_Income</th>\n",
       "    </tr>\n",
       "  </thead>\n",
       "  <tbody>\n",
       "    <tr>\n",
       "      <th>0</th>\n",
       "      <td>10000001</td>\n",
       "      <td>7000</td>\n",
       "      <td>0</td>\n",
       "      <td>Rent</td>\n",
       "      <td>68000.0</td>\n",
       "      <td>not verified</td>\n",
       "      <td>car</td>\n",
       "      <td>18.37</td>\n",
       "      <td>0</td>\n",
       "      <td>0.0</td>\n",
       "      <td>9</td>\n",
       "      <td>14</td>\n",
       "      <td>Female</td>\n",
       "      <td>1</td>\n",
       "      <td>0.102941</td>\n",
       "    </tr>\n",
       "    <tr>\n",
       "      <th>1</th>\n",
       "      <td>10000002</td>\n",
       "      <td>30000</td>\n",
       "      <td>4</td>\n",
       "      <td>Mortgage</td>\n",
       "      <td>0.0</td>\n",
       "      <td>VERIFIED - income</td>\n",
       "      <td>debt_consolidation</td>\n",
       "      <td>14.93</td>\n",
       "      <td>0</td>\n",
       "      <td>17.0</td>\n",
       "      <td>12</td>\n",
       "      <td>24</td>\n",
       "      <td>Female</td>\n",
       "      <td>3</td>\n",
       "      <td>99.000000</td>\n",
       "    </tr>\n",
       "    <tr>\n",
       "      <th>2</th>\n",
       "      <td>10000003</td>\n",
       "      <td>24725</td>\n",
       "      <td>7</td>\n",
       "      <td>Mortgage</td>\n",
       "      <td>75566.4</td>\n",
       "      <td>VERIFIED - income source</td>\n",
       "      <td>debt_consolidation</td>\n",
       "      <td>15.88</td>\n",
       "      <td>0</td>\n",
       "      <td>0.0</td>\n",
       "      <td>12</td>\n",
       "      <td>16</td>\n",
       "      <td>Male</td>\n",
       "      <td>3</td>\n",
       "      <td>0.327196</td>\n",
       "    </tr>\n",
       "    <tr>\n",
       "      <th>3</th>\n",
       "      <td>10000004</td>\n",
       "      <td>16000</td>\n",
       "      <td>0</td>\n",
       "      <td>Unknown</td>\n",
       "      <td>56160.0</td>\n",
       "      <td>VERIFIED - income source</td>\n",
       "      <td>debt_consolidation</td>\n",
       "      <td>14.34</td>\n",
       "      <td>3</td>\n",
       "      <td>0.0</td>\n",
       "      <td>16</td>\n",
       "      <td>22</td>\n",
       "      <td>Male</td>\n",
       "      <td>3</td>\n",
       "      <td>0.284900</td>\n",
       "    </tr>\n",
       "    <tr>\n",
       "      <th>4</th>\n",
       "      <td>10000005</td>\n",
       "      <td>17000</td>\n",
       "      <td>8</td>\n",
       "      <td>Own</td>\n",
       "      <td>96000.0</td>\n",
       "      <td>VERIFIED - income source</td>\n",
       "      <td>debt_consolidation</td>\n",
       "      <td>22.17</td>\n",
       "      <td>1</td>\n",
       "      <td>0.0</td>\n",
       "      <td>19</td>\n",
       "      <td>30</td>\n",
       "      <td>Female</td>\n",
       "      <td>1</td>\n",
       "      <td>0.177083</td>\n",
       "    </tr>\n",
       "    <tr>\n",
       "      <th>...</th>\n",
       "      <td>...</td>\n",
       "      <td>...</td>\n",
       "      <td>...</td>\n",
       "      <td>...</td>\n",
       "      <td>...</td>\n",
       "      <td>...</td>\n",
       "      <td>...</td>\n",
       "      <td>...</td>\n",
       "      <td>...</td>\n",
       "      <td>...</td>\n",
       "      <td>...</td>\n",
       "      <td>...</td>\n",
       "      <td>...</td>\n",
       "      <td>...</td>\n",
       "      <td>...</td>\n",
       "    </tr>\n",
       "    <tr>\n",
       "      <th>164304</th>\n",
       "      <td>10164305</td>\n",
       "      <td>20725</td>\n",
       "      <td>10</td>\n",
       "      <td>Rent</td>\n",
       "      <td>0.0</td>\n",
       "      <td>VERIFIED - income source</td>\n",
       "      <td>credit_card</td>\n",
       "      <td>13.56</td>\n",
       "      <td>0</td>\n",
       "      <td>0.0</td>\n",
       "      <td>13</td>\n",
       "      <td>16</td>\n",
       "      <td>Male</td>\n",
       "      <td>2</td>\n",
       "      <td>99.000000</td>\n",
       "    </tr>\n",
       "    <tr>\n",
       "      <th>164305</th>\n",
       "      <td>10164306</td>\n",
       "      <td>6000</td>\n",
       "      <td>8</td>\n",
       "      <td>Own</td>\n",
       "      <td>0.0</td>\n",
       "      <td>VERIFIED - income source</td>\n",
       "      <td>small_business</td>\n",
       "      <td>9.12</td>\n",
       "      <td>0</td>\n",
       "      <td>36.0</td>\n",
       "      <td>13</td>\n",
       "      <td>30</td>\n",
       "      <td>Male</td>\n",
       "      <td>2</td>\n",
       "      <td>99.000000</td>\n",
       "    </tr>\n",
       "    <tr>\n",
       "      <th>164306</th>\n",
       "      <td>10164307</td>\n",
       "      <td>20250</td>\n",
       "      <td>10</td>\n",
       "      <td>Mortgage</td>\n",
       "      <td>0.0</td>\n",
       "      <td>VERIFIED - income</td>\n",
       "      <td>credit_card</td>\n",
       "      <td>18.17</td>\n",
       "      <td>1</td>\n",
       "      <td>0.0</td>\n",
       "      <td>17</td>\n",
       "      <td>30</td>\n",
       "      <td>Male</td>\n",
       "      <td>1</td>\n",
       "      <td>99.000000</td>\n",
       "    </tr>\n",
       "    <tr>\n",
       "      <th>164307</th>\n",
       "      <td>10164308</td>\n",
       "      <td>10000</td>\n",
       "      <td>4</td>\n",
       "      <td>Rent</td>\n",
       "      <td>0.0</td>\n",
       "      <td>not verified</td>\n",
       "      <td>major_purchase</td>\n",
       "      <td>18.75</td>\n",
       "      <td>1</td>\n",
       "      <td>48.0</td>\n",
       "      <td>16</td>\n",
       "      <td>62</td>\n",
       "      <td>Female</td>\n",
       "      <td>3</td>\n",
       "      <td>99.000000</td>\n",
       "    </tr>\n",
       "    <tr>\n",
       "      <th>164308</th>\n",
       "      <td>10164309</td>\n",
       "      <td>9250</td>\n",
       "      <td>10</td>\n",
       "      <td>Rent</td>\n",
       "      <td>0.0</td>\n",
       "      <td>VERIFIED - income</td>\n",
       "      <td>credit_card</td>\n",
       "      <td>19.44</td>\n",
       "      <td>1</td>\n",
       "      <td>0.0</td>\n",
       "      <td>5</td>\n",
       "      <td>9</td>\n",
       "      <td>Female</td>\n",
       "      <td>2</td>\n",
       "      <td>99.000000</td>\n",
       "    </tr>\n",
       "  </tbody>\n",
       "</table>\n",
       "<p>164309 rows × 15 columns</p>\n",
       "</div>"
      ],
      "text/plain": [
       "         Loan_ID  Loan_Amount_Requested  Length_Employed Home_Owner  \\\n",
       "0       10000001                   7000                0       Rent   \n",
       "1       10000002                  30000                4   Mortgage   \n",
       "2       10000003                  24725                7   Mortgage   \n",
       "3       10000004                  16000                0    Unknown   \n",
       "4       10000005                  17000                8        Own   \n",
       "...          ...                    ...              ...        ...   \n",
       "164304  10164305                  20725               10       Rent   \n",
       "164305  10164306                   6000                8        Own   \n",
       "164306  10164307                  20250               10   Mortgage   \n",
       "164307  10164308                  10000                4       Rent   \n",
       "164308  10164309                   9250               10       Rent   \n",
       "\n",
       "        Annual_Income           Income_Verified     Purpose_Of_Loan  \\\n",
       "0             68000.0              not verified                 car   \n",
       "1                 0.0         VERIFIED - income  debt_consolidation   \n",
       "2             75566.4  VERIFIED - income source  debt_consolidation   \n",
       "3             56160.0  VERIFIED - income source  debt_consolidation   \n",
       "4             96000.0  VERIFIED - income source  debt_consolidation   \n",
       "...               ...                       ...                 ...   \n",
       "164304            0.0  VERIFIED - income source         credit_card   \n",
       "164305            0.0  VERIFIED - income source      small_business   \n",
       "164306            0.0         VERIFIED - income         credit_card   \n",
       "164307            0.0              not verified      major_purchase   \n",
       "164308            0.0         VERIFIED - income         credit_card   \n",
       "\n",
       "        Debt_To_Income  Inquiries_Last_6Mo  Months_Since_Deliquency  \\\n",
       "0                18.37                   0                      0.0   \n",
       "1                14.93                   0                     17.0   \n",
       "2                15.88                   0                      0.0   \n",
       "3                14.34                   3                      0.0   \n",
       "4                22.17                   1                      0.0   \n",
       "...                ...                 ...                      ...   \n",
       "164304           13.56                   0                      0.0   \n",
       "164305            9.12                   0                     36.0   \n",
       "164306           18.17                   1                      0.0   \n",
       "164307           18.75                   1                     48.0   \n",
       "164308           19.44                   1                      0.0   \n",
       "\n",
       "        Number_Open_Accounts  Total_Accounts  Gender  Interest_Rate  \\\n",
       "0                          9              14  Female              1   \n",
       "1                         12              24  Female              3   \n",
       "2                         12              16    Male              3   \n",
       "3                         16              22    Male              3   \n",
       "4                         19              30  Female              1   \n",
       "...                      ...             ...     ...            ...   \n",
       "164304                    13              16    Male              2   \n",
       "164305                    13              30    Male              2   \n",
       "164306                    17              30    Male              1   \n",
       "164307                    16              62  Female              3   \n",
       "164308                     5               9  Female              2   \n",
       "\n",
       "        Loan_To_Income  \n",
       "0             0.102941  \n",
       "1            99.000000  \n",
       "2             0.327196  \n",
       "3             0.284900  \n",
       "4             0.177083  \n",
       "...                ...  \n",
       "164304       99.000000  \n",
       "164305       99.000000  \n",
       "164306       99.000000  \n",
       "164307       99.000000  \n",
       "164308       99.000000  \n",
       "\n",
       "[164309 rows x 15 columns]"
      ]
     },
     "execution_count": 10,
     "metadata": {},
     "output_type": "execute_result"
    }
   ],
   "source": [
    "train_data"
   ]
  },
  {
   "cell_type": "code",
   "execution_count": 11,
   "metadata": {},
   "outputs": [],
   "source": [
    "train_dum = pd.get_dummies(train_data)\n",
    "test_dum = pd.get_dummies(test_data)"
   ]
  },
  {
   "cell_type": "code",
   "execution_count": 12,
   "metadata": {},
   "outputs": [],
   "source": [
    "train_dum.drop('Loan_ID',inplace=True,axis=1)\n",
    "test_dum.drop('Loan_ID',inplace=True,axis=1)"
   ]
  },
  {
   "cell_type": "code",
   "execution_count": 13,
   "metadata": {},
   "outputs": [],
   "source": [
    "from sklearn.model_selection import train_test_split"
   ]
  },
  {
   "cell_type": "code",
   "execution_count": 14,
   "metadata": {},
   "outputs": [],
   "source": [
    "X = train_dum.drop(['Interest_Rate'],axis=1)\n",
    "y = train_dum['Interest_Rate'].values"
   ]
  },
  {
   "cell_type": "code",
   "execution_count": 15,
   "metadata": {},
   "outputs": [],
   "source": [
    "X_train, X_valid, y_train, y_valid = train_test_split(X, y, test_size=0.2, random_state=np.random)"
   ]
  },
  {
   "cell_type": "markdown",
   "metadata": {},
   "source": [
    "# Modeling"
   ]
  },
  {
   "cell_type": "code",
   "execution_count": 16,
   "metadata": {},
   "outputs": [],
   "source": [
    "from sklearn import metrics"
   ]
  },
  {
   "cell_type": "markdown",
   "metadata": {},
   "source": [
    "__Decision Tree Classifier__"
   ]
  },
  {
   "cell_type": "code",
   "execution_count": 17,
   "metadata": {},
   "outputs": [
    {
     "data": {
      "text/plain": [
       "array([0.44409957, 0.47212586, 0.47586878, 0.49275759, 0.49309233,\n",
       "       0.49461384, 0.49972613, 0.50450368, 0.50404723, 0.50471669])"
      ]
     },
     "execution_count": 17,
     "metadata": {},
     "output_type": "execute_result"
    }
   ],
   "source": [
    "from sklearn.tree import DecisionTreeClassifier\n",
    "\n",
    "depths=10\n",
    "mean_acc=np.zeros((depths))\n",
    "\n",
    "for i in range(1,depths+1):\n",
    "    TitanicTree = DecisionTreeClassifier(criterion=\"entropy\", max_depth = i)\n",
    "    TitanicTree.fit(X_train,y_train)\n",
    "\n",
    "    yhat = TitanicTree.predict(X_valid)\n",
    "    mean_acc[i-1] = metrics.accuracy_score(y_valid, yhat)\n",
    "\n",
    "mean_acc"
   ]
  },
  {
   "cell_type": "markdown",
   "metadata": {},
   "source": [
    "__KNN Classifier__"
   ]
  },
  {
   "cell_type": "code",
   "execution_count": 46,
   "metadata": {},
   "outputs": [
    {
     "data": {
      "text/plain": [
       "array([0.46923498, 0.46926541, 0.46972187, 0.46890025, 0.46941756,\n",
       "       0.46880896, 0.4690524 , 0.46877853, 0.46868724, 0.46966101])"
      ]
     },
     "execution_count": 46,
     "metadata": {},
     "output_type": "execute_result"
    }
   ],
   "source": [
    "from sklearn.neighbors import KNeighborsClassifier\n",
    "Ks = 90 #Kstart\n",
    "Ke = 99 #Kstop\n",
    "mean_acc = np.zeros((Ke-Ks+1))\n",
    "\n",
    "c=0\n",
    "for n in range(Ks,Ke+1):\n",
    "      \n",
    "    KNN = KNeighborsClassifier(n_neighbors = n).fit(X_train,y_train)\n",
    "    yhat=KNN.predict(X_valid)\n",
    "    mean_acc[c] = metrics.accuracy_score(y_valid, yhat)\n",
    "    c+=1\n",
    "\n",
    "mean_acc"
   ]
  },
  {
   "cell_type": "code",
   "execution_count": 47,
   "metadata": {},
   "outputs": [
    {
     "data": {
      "image/png": "[encoded data removed]",
      "text/plain": [
       "<Figure size 432x288 with 1 Axes>"
      ]
     },
     "metadata": {
      "needs_background": "light"
     },
     "output_type": "display_data"
    }
   ],
   "source": [
    "plt.plot(range(Ks,Ke+1),mean_acc,'g')\n",
    "# plt.fill_between(range(1,Ks+1),mean_acc - 1 * std_acc,mean_acc + 1 * std_acc, alpha=0.10)\n",
    "# plt.legend(('Accuracy ', '+/- 3xstd'))\n",
    "plt.ylabel('Accuracy ')\n",
    "plt.xlabel('Number of Nabors (K)')\n",
    "plt.tight_layout()\n",
    "plt.show()"
   ]
  },
  {
   "cell_type": "markdown",
   "metadata": {},
   "source": [
    "__Random Forest Classifier__"
   ]
  },
  {
   "cell_type": "code",
   "execution_count": 48,
   "metadata": {},
   "outputs": [
    {
     "data": {
      "text/plain": [
       "RandomForestClassifier(bootstrap=True, ccp_alpha=0.0, class_weight=None,\n",
       "                       criterion='gini', max_depth=None, max_features='auto',\n",
       "                       max_leaf_nodes=None, max_samples=None,\n",
       "                       min_impurity_decrease=0.0, min_impurity_split=None,\n",
       "                       min_samples_leaf=1, min_samples_split=2,\n",
       "                       min_weight_fraction_leaf=0.0, n_estimators=100,\n",
       "                       n_jobs=None, oob_score=False, random_state=None,\n",
       "                       verbose=0, warm_start=False)"
      ]
     },
     "execution_count": 48,
     "metadata": {},
     "output_type": "execute_result"
    }
   ],
   "source": [
    "from sklearn.ensemble import RandomForestClassifier\n",
    "rf = RandomForestClassifier()\n",
    "rf.fit(X_train,y_train)"
   ]
  },
  {
   "cell_type": "code",
   "execution_count": 49,
   "metadata": {},
   "outputs": [],
   "source": [
    "yhat = rf.predict(X_valid)"
   ]
  },
  {
   "cell_type": "code",
   "execution_count": 51,
   "metadata": {},
   "outputs": [
    {
     "name": "stdout",
     "output_type": "stream",
     "text": [
      "0.5154585843831782\n",
      "0.5047872076454506\n"
     ]
    }
   ],
   "source": [
    "print(metrics.accuracy_score(y_valid, yhat))\n",
    "print(metrics.f1_score(y_valid, yhat, average=\"weighted\"))"
   ]
  },
  {
   "cell_type": "markdown",
   "metadata": {},
   "source": [
    "__Light BGM__"
   ]
  },
  {
   "cell_type": "code",
   "execution_count": 52,
   "metadata": {},
   "outputs": [
    {
     "name": "stderr",
     "output_type": "stream",
     "text": [
      "C:\\Users\\samla\\anaconda3\\lib\\site-packages\\lightgbm\\basic.py:1295: UserWarning: categorical_feature in Dataset is overridden.\n",
      "New categorical_feature is [1, 2, 4, 5, 11]\n",
      "  'New categorical_feature is {}'.format(sorted(list(categorical_feature))))\n"
     ]
    },
    {
     "data": {
      "text/plain": [
       "LGBMClassifier(boosting_type='gbdt', class_weight=None, colsample_bytree=1.0,\n",
       "               importance_type='split', learning_rate=0.1, max_depth=6,\n",
       "               min_child_samples=20, min_child_weight=0.001, min_split_gain=0.0,\n",
       "               n_estimators=400, n_jobs=-1, num_leaves=31, objective=None,\n",
       "               random_state=27, reg_alpha=0.0, reg_lambda=0.0, silent=True,\n",
       "               subsample=1.0, subsample_for_bin=200000, subsample_freq=0)"
      ]
     },
     "execution_count": 52,
     "metadata": {},
     "output_type": "execute_result"
    }
   ],
   "source": [
    "from lightgbm import LGBMClassifier\n",
    "LGBM = LGBMClassifier(random_state=27, max_depth=6, n_estimators=400)\n",
    "LGBM.fit(X_train, y_train, categorical_feature=[1, 2, 4, 5, 11])"
   ]
  },
  {
   "cell_type": "code",
   "execution_count": 53,
   "metadata": {},
   "outputs": [],
   "source": [
    "yhat = LGBM.predict(X_valid)"
   ]
  },
  {
   "cell_type": "code",
   "execution_count": 54,
   "metadata": {},
   "outputs": [
    {
     "name": "stdout",
     "output_type": "stream",
     "text": [
      "0.5272655346600937\n",
      "0.5184590851841636\n"
     ]
    }
   ],
   "source": [
    "print(metrics.accuracy_score(y_valid, yhat))\n",
    "print(metrics.f1_score(y_valid, yhat, average=\"weighted\"))"
   ]
  },
  {
   "cell_type": "code",
   "execution_count": null,
   "metadata": {},
   "outputs": [],
   "source": []
  },
  {
   "cell_type": "markdown",
   "metadata": {},
   "source": [
    "#### 5. Comparing Acuracy of each model using \"train\" data"
   ]
  },
  {
   "cell_type": "code",
   "execution_count": 55,
   "metadata": {},
   "outputs": [],
   "source": [
    "from sklearn.model_selection import cross_val_score\n",
    "model_accuracy={'accuracy_training':{},'accuracy_valid':{}}"
   ]
  },
  {
   "cell_type": "code",
   "execution_count": 59,
   "metadata": {},
   "outputs": [],
   "source": [
    "rf.fit(X_train,y_train)\n",
    "yhat = rf.predict(X_valid)\n",
    "model_accuracy['accuracy_training']['Random Forest']=cross_val_score(rf,X_train,y_train,scoring='accuracy',cv=5).mean()\n",
    "model_accuracy['accuracy_valid']['Random Forest']=metrics.accuracy_score(y_valid, yhat)"
   ]
  },
  {
   "cell_type": "code",
   "execution_count": 60,
   "metadata": {},
   "outputs": [
    {
     "name": "stderr",
     "output_type": "stream",
     "text": [
      "C:\\Users\\samla\\anaconda3\\lib\\site-packages\\lightgbm\\basic.py:1295: UserWarning: categorical_feature in Dataset is overridden.\n",
      "New categorical_feature is [1, 2, 4, 5, 11]\n",
      "  'New categorical_feature is {}'.format(sorted(list(categorical_feature))))\n"
     ]
    }
   ],
   "source": [
    "LGBM.fit(X_train, y_train, categorical_feature=[1, 2, 4, 5, 11])\n",
    "yhat = rf.predict(X_valid)\n",
    "model_accuracy['accuracy_training']['LGBM Forest']=cross_val_score(LGBM,X_train,y_train,scoring='accuracy',cv=5).mean()\n",
    "model_accuracy['accuracy_valid']['LGBM Forest']=metrics.accuracy_score(y_valid, yhat)"
   ]
  },
  {
   "cell_type": "code",
   "execution_count": 61,
   "metadata": {},
   "outputs": [
    {
     "data": {
      "text/html": [
       "<div>\n",
       "<style scoped>\n",
       "    .dataframe tbody tr th:only-of-type {\n",
       "        vertical-align: middle;\n",
       "    }\n",
       "\n",
       "    .dataframe tbody tr th {\n",
       "        vertical-align: top;\n",
       "    }\n",
       "\n",
       "    .dataframe thead th {\n",
       "        text-align: right;\n",
       "    }\n",
       "</style>\n",
       "<table border=\"1\" class=\"dataframe\">\n",
       "  <thead>\n",
       "    <tr style=\"text-align: right;\">\n",
       "      <th></th>\n",
       "      <th>accuracy_training</th>\n",
       "      <th>accuracy_valid</th>\n",
       "    </tr>\n",
       "  </thead>\n",
       "  <tbody>\n",
       "    <tr>\n",
       "      <th>Random Forest</th>\n",
       "      <td>0.515424</td>\n",
       "      <td>0.513602</td>\n",
       "    </tr>\n",
       "    <tr>\n",
       "      <th>LGBM Forest</th>\n",
       "      <td>0.542021</td>\n",
       "      <td>0.513602</td>\n",
       "    </tr>\n",
       "  </tbody>\n",
       "</table>\n",
       "</div>"
      ],
      "text/plain": [
       "               accuracy_training  accuracy_valid\n",
       "Random Forest           0.515424        0.513602\n",
       "LGBM Forest             0.542021        0.513602"
      ]
     },
     "execution_count": 61,
     "metadata": {},
     "output_type": "execute_result"
    }
   ],
   "source": [
    "pd.DataFrame(model_accuracy)"
   ]
  },
  {
   "cell_type": "code",
   "execution_count": 63,
   "metadata": {},
   "outputs": [],
   "source": [
    "pred_rf = rf.predict(test_dum)\n",
    "pred_lgbm = LGBM.predict(test_dum)"
   ]
  },
  {
   "cell_type": "code",
   "execution_count": 90,
   "metadata": {},
   "outputs": [],
   "source": [
    "sol_rf = pd.concat([test['Loan_ID'],pd.Series(pred_rf)],axis=1)\n",
    "sol_rf.columns = ['Loan_ID','Interest_Rate']\n",
    "sol_rf.set_index('Loan_ID',inplace=True)"
   ]
  },
  {
   "cell_type": "code",
   "execution_count": 92,
   "metadata": {},
   "outputs": [],
   "source": [
    "sol_lgbm = pd.concat([test['Loan_ID'],pd.Series(pred_lgbm)],axis=1)\n",
    "sol_lgbm.columns = ['Loan_ID','Interest_Rate']\n",
    "sol_lgbm.set_index('Loan_ID',inplace=True)"
   ]
  },
  {
   "cell_type": "code",
   "execution_count": 93,
   "metadata": {},
   "outputs": [],
   "source": [
    "sol_rf.to_csv('Solution_rf.csv')\n",
    "sol_lgbm.to_csv('Solution_lgbm.csv')"
   ]
  },
  {
   "cell_type": "code",
   "execution_count": null,
   "metadata": {},
   "outputs": [],
   "source": []
  }
 ],
 "metadata": {
  "kernelspec": {
   "display_name": "Python 3",
   "language": "python",
   "name": "python3"
  },
  "language_info": {
   "codemirror_mode": {
    "name": "ipython",
    "version": 3
   },
   "file_extension": ".py",
   "mimetype": "text/x-python",
   "name": "python",
   "nbconvert_exporter": "python",
   "pygments_lexer": "ipython3",
   "version": "3.7.6"
  }
 },
 "nbformat": 4,
 "nbformat_minor": 4
}
